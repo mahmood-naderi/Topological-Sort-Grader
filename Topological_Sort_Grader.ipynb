{
 "cells": [
  {
   "cell_type": "code",
   "execution_count": 76,
   "id": "96b84dd5",
   "metadata": {},
   "outputs": [],
   "source": [
    "import PyPDF2\n",
    "import re\n",
    "import os\n",
    "import openpyxl"
   ]
  },
  {
   "cell_type": "code",
   "execution_count": 33,
   "id": "9f6fa5db",
   "metadata": {},
   "outputs": [],
   "source": [
    "def extract_text_from_pdf(pdf_path):\n",
    "    with open(pdf_path, 'rb') as f:\n",
    "        pdf = PyPDF2.PdfReader(f)\n",
    "        text = '\\n'.join([pdf.pages[page_num].extract_text() for page_num in range(len(pdf.pages))])\n",
    "        return text"
   ]
  },
  {
   "cell_type": "code",
   "execution_count": 34,
   "id": "99936726",
   "metadata": {},
   "outputs": [],
   "source": [
    "def get_directory_files(dir_path):\n",
    "    files = []\n",
    "    for file_path in os.listdir(dir_path):\n",
    "        if os.path.isfile(os.path.join(dir_path, file_path)) and (\".pdf\" in file_path):\n",
    "            files.append(file_path)\n",
    "\n",
    "    return files"
   ]
  },
  {
   "cell_type": "code",
   "execution_count": 67,
   "id": "70e63af9",
   "metadata": {},
   "outputs": [],
   "source": [
    "def get_student_name(file_name):\n",
    "    name = file_name.split(' ')\n",
    "    first_name = name[0].split('_')[1]\n",
    "    last_name = name[1].split('_')[0]\n",
    "    return first_name, last_name"
   ]
  },
  {
   "cell_type": "code",
   "execution_count": 36,
   "id": "844019ea",
   "metadata": {},
   "outputs": [
    {
     "name": "stdout",
     "output_type": "stream",
     "text": [
      "132\n"
     ]
    }
   ],
   "source": [
    "def all_topological_sorts(graph):\n",
    "    nodes = list(graph.keys())\n",
    "    num_nodes = len(nodes)\n",
    "\n",
    "    in_degree = {node: 0 for node in nodes}\n",
    "\n",
    "    sorted_list = []\n",
    "    all_sorts = []  \n",
    "\n",
    "    visited = {node: False for node in nodes}\n",
    "\n",
    "    for node in graph:\n",
    "        for adj in graph[node]:\n",
    "            in_degree[adj] += 1\n",
    "\n",
    "    def dfs():\n",
    "        is_all_visited = True\n",
    "\n",
    "        for v in nodes:\n",
    "            if in_degree[v] == 0 and not visited[v]:\n",
    "                for adj in graph[v]:\n",
    "                    in_degree[adj] -= 1\n",
    "\n",
    "                sorted_list.append(v)\n",
    "                visited[v] = True\n",
    "                dfs()  \n",
    "\n",
    "\n",
    "                visited[v] = False\n",
    "                sorted_list.remove(v)\n",
    "                for adj in graph[v]:\n",
    "                    in_degree[adj] += 1\n",
    "                is_all_visited = False\n",
    "\n",
    "        if is_all_visited:\n",
    "            all_sorts.append(sorted_list.copy())  \n",
    "\n",
    "    dfs()\n",
    "    return all_sorts  \n",
    "\n",
    "\n",
    "graph = {\n",
    "    'A': [],\n",
    "    'B': ['A', 'C', 'D', 'E'],\n",
    "    'C': ['D'],\n",
    "    'D': ['H'],\n",
    "    'E': [],\n",
    "    'F': ['D', 'E'],\n",
    "    'G': ['E', 'F', 'H'],\n",
    "    'H': []\n",
    "}\n",
    "\n",
    "\n",
    "result = all_topological_sorts(graph)\n",
    "print(len(result))  "
   ]
  },
  {
   "cell_type": "code",
   "execution_count": 69,
   "id": "2fc06b1e",
   "metadata": {},
   "outputs": [],
   "source": [
    "\n",
    "\n",
    "def generate_regex(char_list):\n",
    "    pattern = ''\n",
    "    for char in char_list:\n",
    "        if char in '.^$*+?{}[]\\\\|()':\n",
    "            char = '\\\\' + char\n",
    "        pattern += f\"(?=.*[{re.escape(char)}])\"\n",
    "\n",
    "    return pattern\n"
   ]
  },
  {
   "cell_type": "code",
   "execution_count": 70,
   "id": "fb7049b1",
   "metadata": {},
   "outputs": [],
   "source": [
    "def grade(submission, results):\n",
    "    text = extract_text_from_pdf(\"/Users/mahmood/Desktop/grading/week11/11/files/\" + str(submission))\n",
    "    first_name, last_name = get_student_name(str(submission))\n",
    "    count = 0\n",
    "    for topological_sort in result:\n",
    "\n",
    "        regex = generate_regex(topological_sort)\n",
    "        \n",
    "        match = re.search(regex, text, re.DOTALL)\n",
    "        if bool(match) == True:\n",
    "            count += 1\n",
    "    \n",
    "    grade = 0\n",
    "    if count == 132:\n",
    "        grade = 5\n",
    "    elif count >= 102 and count < 132:\n",
    "        grade = 4\n",
    "    elif count >= 68 and count < 102:\n",
    "        grade = 3\n",
    "    elif count >= 34 and count < 68:\n",
    "        grade = 2\n",
    "    elif count >= 1 and count < 34:\n",
    "        grade = 1\n",
    "    return first_name, last_name, count, grade"
   ]
  },
  {
   "cell_type": "code",
   "execution_count": 86,
   "id": "151d49ac",
   "metadata": {},
   "outputs": [],
   "source": [
    "def grader(path):\n",
    "    path_files = get_directory_files(path)\n",
    "    for file in path_files:\n",
    "        first_name, last_name, count, score = grade(file, result)\n",
    "        if first_name is not None and last_name is not None:\n",
    "            add_to_sheet(first_name, last_name, 1, 2, score)"
   ]
  },
  {
   "cell_type": "code",
   "execution_count": 93,
   "id": "a0811587",
   "metadata": {},
   "outputs": [],
   "source": [
    "def add_to_sheet(first_name, last_name, first_name_col, last_name_col, grade):\n",
    "    file_path = \"/Users/mahmood/Desktop/grading/week11/grades.xlsx\"\n",
    "    wb = openpyxl.load_workbook(file_path)\n",
    "    found_students = []\n",
    "    print(first_name in \"sergeyasdfa\")\n",
    "    for sheet in wb:\n",
    "        print(f\"Searching in sheet: {sheet.title}\")\n",
    "        for row in sheet.iter_rows():\n",
    "\n",
    "            if len(row) >= max(first_name_col, last_name_col):\n",
    "                first_name_cell = row[first_name_col - 1]\n",
    "                last_name_cell = row[last_name_col - 1]\n",
    "        \n",
    "                if (first_name in first_name_cell.value) and (last_name in last_name_cell.value):\n",
    "                    row[4] = grade\n",
    "                    wb.save(file_path)\n",
    "                    return\n"
   ]
  },
  {
   "cell_type": "code",
   "execution_count": 94,
   "id": "bf3510e2",
   "metadata": {},
   "outputs": [
    {
     "name": "stdout",
     "output_type": "stream",
     "text": [
      "False\n",
      "Searching in sheet: 11\n"
     ]
    },
    {
     "ename": "TypeError",
     "evalue": "argument of type 'NoneType' is not iterable",
     "output_type": "error",
     "traceback": [
      "\u001b[0;31m---------------------------------------------------------------------------\u001b[0m",
      "\u001b[0;31mTypeError\u001b[0m                                 Traceback (most recent call last)",
      "Cell \u001b[0;32mIn[94], line 1\u001b[0m\n\u001b[0;32m----> 1\u001b[0m \u001b[43mgrader\u001b[49m\u001b[43m(\u001b[49m\u001b[38;5;124;43m'\u001b[39;49m\u001b[38;5;124;43m/Users/mahmood/Desktop/grading/week11/11/files\u001b[39;49m\u001b[38;5;124;43m'\u001b[39;49m\u001b[43m)\u001b[49m\n",
      "Cell \u001b[0;32mIn[86], line 6\u001b[0m, in \u001b[0;36mgrader\u001b[0;34m(path)\u001b[0m\n\u001b[1;32m      4\u001b[0m first_name, last_name, count, score \u001b[38;5;241m=\u001b[39m grade(file, result)\n\u001b[1;32m      5\u001b[0m \u001b[38;5;28;01mif\u001b[39;00m first_name \u001b[38;5;129;01mis\u001b[39;00m \u001b[38;5;129;01mnot\u001b[39;00m \u001b[38;5;28;01mNone\u001b[39;00m \u001b[38;5;129;01mand\u001b[39;00m last_name \u001b[38;5;129;01mis\u001b[39;00m \u001b[38;5;129;01mnot\u001b[39;00m \u001b[38;5;28;01mNone\u001b[39;00m:\n\u001b[0;32m----> 6\u001b[0m     \u001b[43madd_to_sheet\u001b[49m\u001b[43m(\u001b[49m\u001b[43mfirst_name\u001b[49m\u001b[43m,\u001b[49m\u001b[43m \u001b[49m\u001b[43mlast_name\u001b[49m\u001b[43m,\u001b[49m\u001b[43m \u001b[49m\u001b[38;5;241;43m1\u001b[39;49m\u001b[43m,\u001b[49m\u001b[43m \u001b[49m\u001b[38;5;241;43m2\u001b[39;49m\u001b[43m,\u001b[49m\u001b[43m \u001b[49m\u001b[43mscore\u001b[49m\u001b[43m)\u001b[49m\n",
      "Cell \u001b[0;32mIn[93], line 14\u001b[0m, in \u001b[0;36madd_to_sheet\u001b[0;34m(first_name, last_name, first_name_col, last_name_col, grade)\u001b[0m\n\u001b[1;32m     11\u001b[0m first_name_cell \u001b[38;5;241m=\u001b[39m row[first_name_col \u001b[38;5;241m-\u001b[39m \u001b[38;5;241m1\u001b[39m]\n\u001b[1;32m     12\u001b[0m last_name_cell \u001b[38;5;241m=\u001b[39m row[last_name_col \u001b[38;5;241m-\u001b[39m \u001b[38;5;241m1\u001b[39m]\n\u001b[0;32m---> 14\u001b[0m \u001b[38;5;28;01mif\u001b[39;00m (\u001b[43mfirst_name\u001b[49m\u001b[43m \u001b[49m\u001b[38;5;129;43;01min\u001b[39;49;00m\u001b[43m \u001b[49m\u001b[43mfirst_name_cell\u001b[49m\u001b[38;5;241;43m.\u001b[39;49m\u001b[43mvalue\u001b[49m) \u001b[38;5;129;01mand\u001b[39;00m (last_name \u001b[38;5;129;01min\u001b[39;00m last_name_cell\u001b[38;5;241m.\u001b[39mvalue):\n\u001b[1;32m     15\u001b[0m     row[\u001b[38;5;241m4\u001b[39m] \u001b[38;5;241m=\u001b[39m grade\n\u001b[1;32m     16\u001b[0m     wb\u001b[38;5;241m.\u001b[39msave(file_path)\n",
      "\u001b[0;31mTypeError\u001b[0m: argument of type 'NoneType' is not iterable"
     ]
    }
   ],
   "source": [
    "grader('/Users/mahmood/Desktop/grading/week11/11/files')"
   ]
  },
  {
   "cell_type": "code",
   "execution_count": null,
   "id": "579d2bed",
   "metadata": {},
   "outputs": [],
   "source": []
  }
 ],
 "metadata": {
  "kernelspec": {
   "display_name": "Python 3 (ipykernel)",
   "language": "python",
   "name": "python3"
  },
  "language_info": {
   "codemirror_mode": {
    "name": "ipython",
    "version": 3
   },
   "file_extension": ".py",
   "mimetype": "text/x-python",
   "name": "python",
   "nbconvert_exporter": "python",
   "pygments_lexer": "ipython3",
   "version": "3.10.9"
  }
 },
 "nbformat": 4,
 "nbformat_minor": 5
}
