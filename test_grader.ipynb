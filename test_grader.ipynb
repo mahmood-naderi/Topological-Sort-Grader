{
 "cells": [
  {
   "cell_type": "code",
   "execution_count": 3,
   "id": "96b84dd5",
   "metadata": {},
   "outputs": [],
   "source": [
    "import PyPDF2"
   ]
  },
  {
   "cell_type": "code",
   "execution_count": 4,
   "id": "9f6fa5db",
   "metadata": {},
   "outputs": [],
   "source": [
    "def extract_text_from_pdf(pdf_path):\n",
    "    with open(pdf_path, 'rb') as f:\n",
    "        pdf = PyPDF2.PdfReader(f)\n",
    "        text = '\\n'.join([pdf.pages[page_num].extract_text() for page_num in range(len(pdf.pages))])\n",
    "        return text"
   ]
  },
  {
   "cell_type": "code",
   "execution_count": 11,
   "id": "5cc74692",
   "metadata": {},
   "outputs": [
    {
     "data": {
      "text/plain": [
       "'Problem set solution Week 11\\nSofia Kulagina ISE-02\\nJanuary 2024\\n1 Task 1\\nWrite down all possible topological sortings for the nodes of the following di-\\nrected graph:\\nABC\\nD\\nE F\\nG H\\n1.1 Solution to problem 1\\n1. B A C G F D E H\\n2. B A C G F D H E\\n3. B A C G F E D H\\n4. B A G C F D E H\\n5. B A G C F D H E\\n6. B A G C F E D H\\n7. B A G F C D E H\\n8. B A G F C D H E\\n9. B A G F C E D H10. B A G F E C D H\\n11. B C A G F D E H\\n12. B C A G F D H E\\n13. B C A G F E D H\\n14. B C G A F D E H\\n15. B C G A F D H E\\n16. B C G A F E D H\\n17. B C G F A D E H\\n18. B C G F A D H E19. B C G F A E D H\\n20. B C G F D A E H\\n21. B C G F D A H E\\n22. B C G F D E A H\\n23. B C G F D E H A\\n24. B C G F D H A E\\n25. B C G F D H E A\\n26. B C G F E A D H\\n27. B C G F E D A H\\n1\\n28. B C G F E D H A\\n29. B G A C F D E H\\n30. B G A C F D H E\\n31. B G A C F E D H\\n32. B G A F C D E H\\n33. B G A F C D H E\\n34. B G A F C E D H\\n35. B G A F E C D H\\n36. B G C A F D E H\\n37. B G C A F D H E\\n38. B G C A F E D H\\n39. B G C F A D E H\\n40. B G C F A D H E\\n41. B G C F A E D H\\n42. B G C F D A E H\\n43. B G C F D A H E\\n44. B G C F D E A H\\n45. B G C F D E H A\\n46. B G C F D H A E\\n47. B G C F D H E A\\n48. B G C F E A D H\\n49. B G C F E D A H\\n50. B G C F E D H A\\n51. B G F A C D E H\\n52. B G F A C D H E\\n53. B G F A C E D H\\n54. B G F A E C D H\\n55. B G F C A D E H56. B G F C A D H E\\n57. B G F C A E D H\\n58. B G F C D A E H\\n59. B G F C D A H E\\n60. B G F C D E A H\\n61. B G F C D E H A\\n62. B G F C D H A E\\n63. B G F C D H E A\\n64. B G F C E A D H\\n65. B G F C E D A H\\n66. B G F C E D H A\\n67. B G F E A C D H\\n68. B G F E C A D H\\n69. B G F E C D A H\\n70. B G F E C D H A\\n71. G B A C F D E H\\n72. G B A C F D H E\\n73. G B A C F E D H\\n74. G B A F C D E H\\n75. G B A F C D H E\\n76. G B A F C E D H\\n77. G B A F E C D H\\n78. G B C A F D E H\\n79. G B C A F D H E\\n80. G B C A F E D H\\n81. G B C F A D E H\\n82. G B C F A D H E\\n83. G B C F A E D H84. G B C F D A E H\\n85. G B C F D A H E\\n86. G B C F D E A H\\n87. G B C F D E H A\\n88. G B C F D H A E\\n89. G B C F D H E A\\n90. G B C F E A D H\\n91. G B C F E D A H\\n92. G B C F E D H A\\n93. G B F A C D E H\\n94. G B F A C D H E\\n95. G B F A C E D H\\n96. G B F A E C D H\\n97. G B F C A D E H\\n98. G B F C A D H E\\n99. G B F C A E D H\\n100. G B F C D A E H\\n101. G B F C D A H E\\n102. G B F C D E A H\\n103. G B F C D E H A\\n104. G B F C D H A E\\n105. G B F C D H E A\\n106. G B F C E A D H\\n107. G B F C E D A H\\n108. G B F C E D H A\\n109. G B F E A C D H\\n110. G B F E C A D H\\n111. G B F E C D A H\\n112. G B F E C D H A\\n113. G F B A C D E H\\n2\\n114. G F B A C D H E\\n115. G F B A C E D H\\n116. G F B A E C D H\\n117. G F B C A D E H\\n118. G F B C A D H E\\n119. G F B C A E D H\\n120. G F B C D A E H121. G F B C D A H E\\n122. G F B C D E A H\\n123. G F B C D E H A\\n124. G F B C D H A E\\n125. G F B C D H E A\\n126. G F B C E A D H\\n127. G F B C E D A H128. G F B C E D H A\\n129. G F B E A C D H\\n130. G F B E C A D H\\n131. G F B E C D A H\\n132. G F B E C D H A\\n2 Task 2\\nGive an example of a directed graph G= (V, E ), a source vertex s, and a set of\\nedges T⊆Esuch that\\n•Tforms a tree and\\n•for each vertex v∈V, the unique simple path in the graph (V, T )from s\\ntovis a shortest path in G, yet\\n•the set of edges Tcannot be produced by running BFS on G, no matter\\nhow the vertices are ordered in the adjacency lists.\\n3\\n2.1 Solution to the task 2\\nSO\\nFI\\nA\\nK\\nU\\nL\\nG\\nN\\n4\\nSO\\nFI\\nA\\nK\\nU\\nL\\nG\\nN\\n5'"
      ]
     },
     "execution_count": 11,
     "metadata": {},
     "output_type": "execute_result"
    }
   ],
   "source": [
    "pdf_path = '/Users/mahmood/Desktop/SofiaKulagina_problem_set_11.pdf'\n",
    "\n",
    "extract_text_from_pdf(pdf_path)"
   ]
  },
  {
   "cell_type": "code",
   "execution_count": 2,
   "id": "844019ea",
   "metadata": {},
   "outputs": [
    {
     "name": "stdout",
     "output_type": "stream",
     "text": [
      "132\n"
     ]
    }
   ],
   "source": [
    "def all_topological_sorts(graph):\n",
    "    nodes = list(graph.keys())\n",
    "    num_nodes = len(nodes)\n",
    "\n",
    "    in_degree = {node: 0 for node in nodes}\n",
    "\n",
    "    sorted_list = []\n",
    "    all_sorts = []  # Container to store all topological sorts\n",
    "\n",
    "    visited = {node: False for node in nodes}\n",
    "\n",
    "    for node in graph:\n",
    "        for adj in graph[node]:\n",
    "            in_degree[adj] += 1\n",
    "\n",
    "    def dfs():\n",
    "        is_all_visited = True\n",
    "\n",
    "        for v in nodes:\n",
    "            if in_degree[v] == 0 and not visited[v]:\n",
    "                # Reducing in_degree for adjacent nodes as we are considering current node now\n",
    "                for adj in graph[v]:\n",
    "                    in_degree[adj] -= 1\n",
    "\n",
    "                sorted_list.append(v)\n",
    "                visited[v] = True\n",
    "                dfs()  # Recurse with the current node marked as visited\n",
    "\n",
    "                # Backtrack\n",
    "                visited[v] = False\n",
    "                sorted_list.remove(v)\n",
    "                for adj in graph[v]:\n",
    "                    in_degree[adj] += 1\n",
    "                is_all_visited = False\n",
    "\n",
    "        if is_all_visited:\n",
    "            all_sorts.append(sorted_list.copy())  # Add the completed sort to the list\n",
    "\n",
    "    dfs()\n",
    "    return all_sorts  # Return the list of all topological sorts\n",
    "\n",
    "# Example graph definition\n",
    "graph = {\n",
    "    'A': [],\n",
    "    'B': ['A', 'C', 'D', 'E'],\n",
    "    'C': ['D'],\n",
    "    'D': ['H'],\n",
    "    'E': [],\n",
    "    'F': ['D', 'E'],\n",
    "    'G': ['E', 'F', 'H'],\n",
    "    'H': []\n",
    "}\n",
    "\n",
    "# Example usage\n",
    "result = all_topological_sorts(graph)\n",
    "print(len(result))  # Print all topological sorts\n"
   ]
  },
  {
   "cell_type": "code",
   "execution_count": 7,
   "id": "caf5218b",
   "metadata": {},
   "outputs": [
    {
     "name": "stdout",
     "output_type": "stream",
     "text": [
      "132\n"
     ]
    }
   ],
   "source": [
    "i = 0\n",
    "ls = [['B', 'A', 'C', 'G', 'F', 'D', 'E', 'H'],\n",
    "['B', 'A', 'C', 'G', 'F', 'D', 'H', 'E'],\n",
    "['B', 'A', 'C', 'G', 'F', 'E', 'D', 'H'],\n",
    "['B', 'A', 'G', 'C', 'F', 'D', 'E', 'H'],\n",
    "['B', 'A', 'G', 'C', 'F', 'D', 'H', 'E'],\n",
    "['B', 'A', 'G', 'C', 'F', 'E', 'D', 'H'],\n",
    "['B', 'A', 'G', 'F', 'C', 'D', 'E', 'H'],\n",
    "['B', 'A', 'G', 'F', 'C', 'D', 'H', 'E'],\n",
    "['B', 'A', 'G', 'F', 'C', 'E', 'D', 'H'],\n",
    "['B', 'A', 'G', 'F', 'E', 'C', 'D', 'H'],\n",
    "['B', 'C', 'A', 'G', 'F', 'D', 'E', 'H'],\n",
    "['B', 'C', 'A', 'G', 'F', 'D', 'H', 'E'],\n",
    "['B', 'C', 'A', 'G', 'F', 'E', 'D', 'H'],\n",
    "['B', 'C', 'G', 'A', 'F', 'D', 'E', 'H'],\n",
    "['B', 'C', 'G', 'A', 'F', 'D', 'H', 'E'],\n",
    "['B', 'C', 'G', 'A', 'F', 'E', 'D', 'H'],\n",
    "['B', 'C', 'G', 'F', 'A', 'D', 'E', 'H'],\n",
    "['B', 'C', 'G', 'F', 'A', 'D', 'H', 'E'],\n",
    "['B', 'C', 'G', 'F', 'A', 'E', 'D', 'H'],\n",
    "['B', 'C', 'G', 'F', 'D', 'A', 'E', 'H'],\n",
    "['B', 'C', 'G', 'F', 'D', 'A', 'H', 'E'],\n",
    "['B', 'C', 'G', 'F', 'D', 'E', 'A', 'H'],\n",
    "['B', 'C', 'G', 'F', 'D', 'E', 'H', 'A'],\n",
    "['B', 'C', 'G', 'F', 'D', 'H', 'A', 'E'],\n",
    "['B', 'C', 'G', 'F', 'D', 'H', 'E', 'A'],\n",
    "['B', 'C', 'G', 'F', 'E', 'A', 'D', 'H'],\n",
    "['B', 'C', 'G', 'F', 'E', 'D', 'A', 'H'],\n",
    "['B', 'C', 'G', 'F', 'E', 'D', 'H', 'A'],\n",
    "['B', 'G', 'A', 'C', 'F', 'D', 'E', 'H'],\n",
    "['B', 'G', 'A', 'C', 'F', 'D', 'H', 'E'],\n",
    "['B', 'G', 'A', 'C', 'F', 'E', 'D', 'H'],\n",
    "['B', 'G', 'A', 'F', 'C', 'D', 'E', 'H'],\n",
    "['B', 'G', 'A', 'F', 'C', 'D', 'H', 'E'],\n",
    "['B', 'G', 'A', 'F', 'C', 'E', 'D', 'H'],\n",
    "['B', 'G', 'A', 'F', 'E', 'C', 'D', 'H'],\n",
    "['B', 'G', 'C', 'A', 'F', 'D', 'E', 'H'],\n",
    "['B', 'G', 'C', 'A', 'F', 'D', 'H', 'E'],\n",
    "['B', 'G', 'C', 'A', 'F', 'E', 'D', 'H'],\n",
    "['B', 'G', 'C', 'F', 'A', 'D', 'E', 'H'],\n",
    "['B', 'G', 'C', 'F', 'A', 'D', 'H', 'E'],\n",
    "['B', 'G', 'C', 'F', 'A', 'E', 'D', 'H'],\n",
    "['B', 'G', 'C', 'F', 'D', 'A', 'E', 'H'],\n",
    "['B', 'G', 'C', 'F', 'D', 'A', 'H', 'E'],\n",
    "['B', 'G', 'C', 'F', 'D', 'E', 'A', 'H'],\n",
    "['B', 'G', 'C', 'F', 'D', 'E', 'H', 'A'],\n",
    "['B', 'G', 'C', 'F', 'D', 'H', 'A', 'E'],\n",
    "['B', 'G', 'C', 'F', 'D', 'H', 'E', 'A'],\n",
    "['B', 'G', 'C', 'F', 'E', 'A', 'D', 'H'],\n",
    "['B', 'G', 'C', 'F', 'E', 'D', 'A', 'H'],\n",
    "['B', 'G', 'C', 'F', 'E', 'D', 'H', 'A'],\n",
    "['B', 'G', 'F', 'A', 'C', 'D', 'E', 'H'],\n",
    "['B', 'G', 'F', 'A', 'C', 'D', 'H', 'E'],\n",
    "['B', 'G', 'F', 'A', 'C', 'E', 'D', 'H'],\n",
    "['B', 'G', 'F', 'A', 'E', 'C', 'D', 'H'],\n",
    "['B', 'G', 'F', 'C', 'A', 'D', 'E', 'H'],\n",
    "['B', 'G', 'F', 'C', 'A', 'D', 'H', 'E'],\n",
    "['B', 'G', 'F', 'C', 'A', 'E', 'D', 'H'],\n",
    "['B', 'G', 'F', 'C', 'D', 'A', 'E', 'H'],\n",
    "['B', 'G', 'F', 'C', 'D', 'A', 'H', 'E'],\n",
    "['B', 'G', 'F', 'C', 'D', 'E', 'A', 'H'],\n",
    "['B', 'G', 'F', 'C', 'D', 'E', 'H', 'A'],\n",
    "['B', 'G', 'F', 'C', 'D', 'H', 'A', 'E'],\n",
    "['B', 'G', 'F', 'C', 'D', 'H', 'E', 'A'],\n",
    "['B', 'G', 'F', 'C', 'E', 'A', 'D', 'H'],\n",
    "['B', 'G', 'F', 'C', 'E', 'D', 'A', 'H'],\n",
    "['B', 'G', 'F', 'C', 'E', 'D', 'H', 'A'],\n",
    "['B', 'G', 'F', 'E', 'A', 'C', 'D', 'H'],\n",
    "['B', 'G', 'F', 'E', 'C', 'A', 'D', 'H'],\n",
    "['B', 'G', 'F', 'E', 'C', 'D', 'A', 'H'],\n",
    "['B', 'G', 'F', 'E', 'C', 'D', 'H', 'A'],\n",
    "['G', 'B', 'A', 'C', 'F', 'D', 'E', 'H'],\n",
    "['G', 'B', 'A', 'C', 'F', 'D', 'H', 'E'],\n",
    "['G', 'B', 'A', 'C', 'F', 'E', 'D', 'H'],\n",
    "['G', 'B', 'A', 'F', 'C', 'D', 'E', 'H'],\n",
    "['G', 'B', 'A', 'F', 'C', 'D', 'H', 'E'],\n",
    "['G', 'B', 'A', 'F', 'C', 'E', 'D', 'H'],\n",
    "['G', 'B', 'A', 'F', 'E', 'C', 'D', 'H'],\n",
    "['G', 'B', 'C', 'A', 'F', 'D', 'E', 'H'],\n",
    "['G', 'B', 'C', 'A', 'F', 'D', 'H', 'E'],\n",
    "['G', 'B', 'C', 'A', 'F', 'E', 'D', 'H'],\n",
    "['G', 'B', 'C', 'F', 'A', 'D', 'E', 'H'],\n",
    "['G', 'B', 'C', 'F', 'A', 'D', 'H', 'E'],\n",
    "['G', 'B', 'C', 'F', 'A', 'E', 'D', 'H'],\n",
    "['G', 'B', 'C', 'F', 'D', 'A', 'E', 'H'],\n",
    "['G', 'B', 'C', 'F', 'D', 'A', 'H', 'E'],\n",
    "['G', 'B', 'C', 'F', 'D', 'E', 'A', 'H'],\n",
    "['G', 'B', 'C', 'F', 'D', 'E', 'H', 'A'],\n",
    "['G', 'B', 'C', 'F', 'D', 'H', 'A', 'E'],\n",
    "['G', 'B', 'C', 'F', 'D', 'H', 'E', 'A'],\n",
    "['G', 'B', 'C', 'F', 'E', 'A', 'D', 'H'],\n",
    "['G', 'B', 'C', 'F', 'E', 'D', 'A', 'H'],\n",
    "['G', 'B', 'C', 'F', 'E', 'D', 'H', 'A'],\n",
    "['G', 'B', 'F', 'A', 'C', 'D', 'E', 'H'],\n",
    "['G', 'B', 'F', 'A', 'C', 'D', 'H', 'E'],\n",
    "['G', 'B', 'F', 'A', 'C', 'E', 'D', 'H'],\n",
    "['G', 'B', 'F', 'A', 'E', 'C', 'D', 'H'],\n",
    "['G', 'B', 'F', 'C', 'A', 'D', 'E', 'H'],\n",
    "['G', 'B', 'F', 'C', 'A', 'D', 'H', 'E'],\n",
    "['G', 'B', 'F', 'C', 'A', 'E', 'D', 'H'],\n",
    "['G', 'B', 'F', 'C', 'D', 'A', 'E', 'H'],\n",
    "['G', 'B', 'F', 'C', 'D', 'A', 'H', 'E'],\n",
    "['G', 'B', 'F', 'C', 'D', 'E', 'A', 'H'],\n",
    "['G', 'B', 'F', 'C', 'D', 'E', 'H', 'A'],\n",
    "['G', 'B', 'F', 'C', 'D', 'H', 'A', 'E'],\n",
    "['G', 'B', 'F', 'C', 'D', 'H', 'E', 'A'],\n",
    "['G', 'B', 'F', 'C', 'E', 'A', 'D', 'H'],\n",
    "['G', 'B', 'F', 'C', 'E', 'D', 'A', 'H'],\n",
    "['G', 'B', 'F', 'C', 'E', 'D', 'H', 'A'],\n",
    "['G', 'B', 'F', 'E', 'A', 'C', 'D', 'H'],\n",
    "['G', 'B', 'F', 'E', 'C', 'A', 'D', 'H'],\n",
    "['G', 'B', 'F', 'E', 'C', 'D', 'A', 'H'],\n",
    "['G', 'B', 'F', 'E', 'C', 'D', 'H', 'A'],\n",
    "['G', 'F', 'B', 'A', 'C', 'D', 'E', 'H'],\n",
    "['G', 'F', 'B', 'A', 'C', 'D', 'H', 'E'],\n",
    "['G', 'F', 'B', 'A', 'C', 'E', 'D', 'H'],\n",
    "['G', 'F', 'B', 'A', 'E', 'C', 'D', 'H'],\n",
    "['G', 'F', 'B', 'C', 'A', 'D', 'E', 'H'],\n",
    "['G', 'F', 'B', 'C', 'A', 'D', 'H', 'E'],\n",
    "['G', 'F', 'B', 'C', 'A', 'E', 'D', 'H'],\n",
    "['G', 'F', 'B', 'C', 'D', 'A', 'E', 'H'],\n",
    "['G', 'F', 'B', 'C', 'D', 'A', 'H', 'E'],\n",
    "['G', 'F', 'B', 'C', 'D', 'E', 'A', 'H'],\n",
    "['G', 'F', 'B', 'C', 'D', 'E', 'H', 'A'],\n",
    "['G', 'F', 'B', 'C', 'D', 'H', 'A', 'E'],\n",
    "['G', 'F', 'B', 'C', 'D', 'H', 'E', 'A'],\n",
    "['G', 'F', 'B', 'C', 'E', 'A', 'D', 'H'],\n",
    "['G', 'F', 'B', 'C', 'E', 'D', 'A', 'H'],\n",
    "['G', 'F', 'B', 'C', 'E', 'D', 'H', 'A'],\n",
    "['G', 'F', 'B', 'E', 'A', 'C', 'D', 'H'],\n",
    "['G', 'F', 'B', 'E', 'C', 'A', 'D', 'H'],\n",
    "['G', 'F', 'B', 'E', 'C', 'D', 'A', 'H'],\n",
    "['G', 'F', 'B', 'E', 'C', 'D', 'H', 'A']]\n",
    "\n",
    "for l in ls:\n",
    "    i += 1\n",
    "print(i)"
   ]
  },
  {
   "cell_type": "code",
   "execution_count": 12,
   "id": "2fc06b1e",
   "metadata": {},
   "outputs": [
    {
     "name": "stdout",
     "output_type": "stream",
     "text": [
      "Regex pattern: (?=.*[E])(?=.*[H])\n",
      "Match found: True\n"
     ]
    }
   ],
   "source": [
    "import re\n",
    "\n",
    "def generate_regex(char_list):\n",
    "    pattern = ''\n",
    "    for char in char_list:\n",
    "        if char in '.^$*+?{}[]\\\\|()':\n",
    "            char = '\\\\' + char\n",
    "        pattern += f\"(?=.*[{re.escape(char)}])\"\n",
    "    return pattern\n",
    "\n",
    "\n",
    "char_list = [ 'A', 'B', 'C', 'G', 'F', 'D', 'E', 'H']\n",
    "regex = generate_regex(char_list)\n",
    "print(\"Regex pattern:\", regex)\n",
    "\n",
    "\n",
    "pdf_path = '/Users/mahmood/Desktop/SofiaKulagina_problem_set_11.pdf'\n",
    "test_string = extract_text_from_pdf(pdf_path)\n",
    "match = re.search(regex, test_string, re.DOTALL)\n",
    "print(\"Match found:\", bool(match))\n"
   ]
  },
  {
   "cell_type": "code",
   "execution_count": 24,
   "id": "f8315be1",
   "metadata": {},
   "outputs": [],
   "source": [
    "def generate_regex_from_list(node_list):\n",
    "    return ''.join(f'{re.escape(node)}[^A-Za-z0-9]*' for node in node_list[:-1]) + re.escape(node_list[-1])"
   ]
  },
  {
   "cell_type": "code",
   "execution_count": 28,
   "id": "b6725496",
   "metadata": {},
   "outputs": [],
   "source": [
    "char_list = ['G', 'B', 'F', 'C', 'D', 'A', 'E', 'H']\n",
    "rgx = generate_regex_from_list(char_list)"
   ]
  },
  {
   "cell_type": "code",
   "execution_count": 29,
   "id": "d25b3059",
   "metadata": {},
   "outputs": [
    {
     "name": "stdout",
     "output_type": "stream",
     "text": [
      "Match found: <re.Match object; span=(2181, 2196), match='G B F C D A E H'>\n"
     ]
    }
   ],
   "source": [
    "test_string = extract_text_from_pdf(pdf_path)\n",
    "match = re.search(rgx, test_string, re.DOTALL)\n",
    "print(\"Match found:\", match)"
   ]
  },
  {
   "cell_type": "code",
   "execution_count": 8,
   "id": "151d49ac",
   "metadata": {},
   "outputs": [],
   "source": [
    "import openpyxl\n",
    "\n",
    "wb = openpyxl.load_workbook('/Users/mahmood/Desktop/grading/week11/grades.xlsx')\n",
    "ws = wb.active  # Select the active worksheet or use wb[sheet_name]\n",
    "\n",
    "# Write data to specific cells\n",
    "ws['K6'] = \"New data\"\n",
    "\n",
    "# Append a row to the end of the current data\n",
    "#ws.append([7, 8, 9])\n",
    "\n",
    "# Save the modified workbook\n",
    "wb.save('/Users/mahmood/Desktop/grading/week11/grading.xlsx')"
   ]
  },
  {
   "cell_type": "code",
   "execution_count": 11,
   "id": "89bfbbc4",
   "metadata": {},
   "outputs": [],
   "source": [
    "def find_students(file_path, first_name, last_name, first_name_col, last_name_col):\n",
    "    wb = openpyxl.load_workbook(file_path)\n",
    "    found_students = []\n",
    "\n",
    "    for sheet in wb:\n",
    "        print(f\"Searching in sheet: {sheet.title}\")\n",
    "        for row in sheet.iter_rows():\n",
    "\n",
    "            if len(row) >= max(first_name_col, last_name_col):\n",
    "                first_name_cell = row[first_name_col - 1]\n",
    "                last_name_cell = row[last_name_col - 1]\n",
    "        \n",
    "                if first_name_cell.value == first_name and last_name_cell.value == last_name:\n",
    "                    found_students.append((sheet.title, first_name_cell.coordinate, last_name_cell.coordinate))\n",
    "\n",
    "    return found_students\n"
   ]
  },
  {
   "cell_type": "code",
   "execution_count": 12,
   "id": "9681b9b1",
   "metadata": {},
   "outputs": [
    {
     "name": "stdout",
     "output_type": "stream",
     "text": [
      "Searching in sheet: 11\n"
     ]
    },
    {
     "data": {
      "text/plain": [
       "[('11', 'A16', 'B16')]"
      ]
     },
     "execution_count": 12,
     "metadata": {},
     "output_type": "execute_result"
    }
   ],
   "source": [
    "find_students('/Users/mahmood/Desktop/grading/week11/grades.xlsx', \"Dinar\", \"Yakupov\", 1, 2)"
   ]
  },
  {
   "cell_type": "code",
   "execution_count": null,
   "id": "09f90e8f",
   "metadata": {},
   "outputs": [],
   "source": []
  }
 ],
 "metadata": {
  "kernelspec": {
   "display_name": "Python 3 (ipykernel)",
   "language": "python",
   "name": "python3"
  },
  "language_info": {
   "codemirror_mode": {
    "name": "ipython",
    "version": 3
   },
   "file_extension": ".py",
   "mimetype": "text/x-python",
   "name": "python",
   "nbconvert_exporter": "python",
   "pygments_lexer": "ipython3",
   "version": "3.10.9"
  }
 },
 "nbformat": 4,
 "nbformat_minor": 5
}
